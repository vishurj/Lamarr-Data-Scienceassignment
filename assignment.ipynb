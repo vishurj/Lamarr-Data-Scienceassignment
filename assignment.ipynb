{
 "cells": [
  {
   "cell_type": "code",
   "execution_count": 9,
   "id": "bb861b9a",
   "metadata": {},
   "outputs": [],
   "source": [
    "import requests\n",
    "from bs4 import BeautifulSoup\n",
    "import markdown\n",
    "import json\n",
    "\n"
   ]
  },
  {
   "cell_type": "code",
   "execution_count": 10,
   "id": "597f56f8",
   "metadata": {},
   "outputs": [],
   "source": [
    "def scrape_page(url):\n",
    "    response = requests.get(url)\n",
    "    soup = BeautifulSoup(response.content, 'html.parser')\n",
    "\n",
    "    # Extract title\n",
    "    title = soup.find('title').text\n",
    "\n",
    "    # Extract content\n",
    "    content = \"\"\n",
    "    for paragraph in soup.find_all('p'):\n",
    "        content += paragraph.get_text() + '\\n'\n",
    "\n",
    "    # Convert HTML tables to Markdown\n",
    "    for table in soup.find_all('table'):\n",
    "        markdown_table = markdown.markdown(str(table))\n",
    "        content += markdown_table + '\\n'\n",
    "\n",
    "    return {'title': title, 'content': content}"
   ]
  },
  {
   "cell_type": "code",
   "execution_count": 11,
   "id": "ea24617c",
   "metadata": {},
   "outputs": [],
   "source": [
    "# URL of the webpage containing the links you want to scrape\n",
    "webpage_url = \"https://indiacorplaw.in\"\n",
    "\n",
    "# Create a list to store the extracted URLs\n",
    "extracted_urls = []\n",
    "\n",
    "# Fetch the webpage and parse it\n",
    "response = requests.get(webpage_url)\n",
    "soup = BeautifulSoup(response.content, 'html.parser')\n",
    "\n",
    "\n"
   ]
  },
  {
   "cell_type": "code",
   "execution_count": 13,
   "id": "1c829ac0",
   "metadata": {},
   "outputs": [],
   "source": [
    "# Find and extract the URLs from the webpage\n",
    "for link in soup.find_all('a', href=True):\n",
    "    extracted_url = link['href']\n",
    "\n",
    "# Remove any duplicate or irrelevant URLs\n",
    "    if extracted_url.startswith(\"https://indiacorplaw.in/2023/09/\"):\n",
    "        extracted_urls.append(extracted_url)\n",
    "\n",
    "    # Limit the number of extracted URLs to 5\n",
    "    if len(extracted_urls) >= 6:\n",
    "        break\n",
    "# Create a list to store the scraped data\n",
    "data = []"
   ]
  },
  {
   "cell_type": "code",
   "execution_count": 14,
   "id": "717a2169",
   "metadata": {},
   "outputs": [],
   "source": [
    "# Iterate through the extracted URLs and scrape data\n",
    "for url in extracted_urls:\n",
    "    page_data = scrape_page(url)\n",
    "    data.append(page_data)\n",
    "\n",
    "# Save the scraped data to a JSON file\n",
    "with open('scraped_data.json', 'w') as json_file:\n",
    "    json.dump(data, json_file, indent=4)"
   ]
  },
  {
   "cell_type": "code",
   "execution_count": null,
   "id": "582b2832",
   "metadata": {},
   "outputs": [],
   "source": []
  }
 ],
 "metadata": {
  "kernelspec": {
   "display_name": "Python 3 (ipykernel)",
   "language": "python",
   "name": "python3"
  },
  "language_info": {
   "codemirror_mode": {
    "name": "ipython",
    "version": 3
   },
   "file_extension": ".py",
   "mimetype": "text/x-python",
   "name": "python",
   "nbconvert_exporter": "python",
   "pygments_lexer": "ipython3",
   "version": "3.8.10"
  }
 },
 "nbformat": 4,
 "nbformat_minor": 5
}
